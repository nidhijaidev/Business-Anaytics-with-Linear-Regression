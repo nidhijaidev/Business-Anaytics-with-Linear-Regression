{
  "nbformat": 4,
  "nbformat_minor": 0,
  "metadata": {
    "colab": {
      "name": "HUL_LinearRegressionEnC.ipynb",
      "provenance": []
    },
    "kernelspec": {
      "name": "python3",
      "display_name": "Python 3"
    },
    "language_info": {
      "name": "python"
    }
  },
  "cells": [
    {
      "cell_type": "code",
      "execution_count": 1,
      "metadata": {
        "id": "RRNUPSBCL3Mu"
      },
      "outputs": [],
      "source": [
        "import numpy as np\n",
        "import matplotlib.pyplot as plt\n",
        "import pandas as pd"
      ]
    },
    {
      "cell_type": "code",
      "source": [
        "dataset = pd.read_csv('/content/HINDUNILVR.NS.csv')"
      ],
      "metadata": {
        "id": "x2d7zIqxNE76"
      },
      "execution_count": 4,
      "outputs": []
    },
    {
      "cell_type": "code",
      "source": [
        "x = dataset.iloc[:, :-1].values"
      ],
      "metadata": {
        "id": "LorqBLjgNGpo"
      },
      "execution_count": 5,
      "outputs": []
    },
    {
      "cell_type": "code",
      "source": [
        "x"
      ],
      "metadata": {
        "colab": {
          "base_uri": "https://localhost:8080/"
        },
        "id": "f6HXcB0FNIPL",
        "outputId": "c894c964-7af3-4298-be7e-0f8f7f1281ba"
      },
      "execution_count": 6,
      "outputs": [
        {
          "output_type": "execute_result",
          "data": {
            "text/plain": [
              "array([[44425.],\n",
              "       [44426.],\n",
              "       [44428.],\n",
              "       [44431.],\n",
              "       [44432.],\n",
              "       [44433.],\n",
              "       [44434.],\n",
              "       [44435.],\n",
              "       [44438.],\n",
              "       [44439.],\n",
              "       [44440.],\n",
              "       [44441.],\n",
              "       [44442.],\n",
              "       [44445.],\n",
              "       [44446.],\n",
              "       [44447.],\n",
              "       [44448.],\n",
              "       [44452.],\n",
              "       [44453.],\n",
              "       [44454.],\n",
              "       [44455.],\n",
              "       [44456.],\n",
              "       [44459.],\n",
              "       [44460.],\n",
              "       [44461.],\n",
              "       [44462.],\n",
              "       [44463.],\n",
              "       [44466.],\n",
              "       [44467.],\n",
              "       [44468.],\n",
              "       [44469.],\n",
              "       [44470.],\n",
              "       [44473.],\n",
              "       [44474.],\n",
              "       [44475.],\n",
              "       [44476.],\n",
              "       [44477.],\n",
              "       [44480.],\n",
              "       [44481.],\n",
              "       [44482.],\n",
              "       [44483.],\n",
              "       [44487.],\n",
              "       [44488.],\n",
              "       [44489.],\n",
              "       [44490.],\n",
              "       [44491.],\n",
              "       [44494.],\n",
              "       [44495.],\n",
              "       [44496.],\n",
              "       [44497.],\n",
              "       [44498.],\n",
              "       [44501.],\n",
              "       [44502.],\n",
              "       [44503.],\n",
              "       [44504.],\n",
              "       [44508.],\n",
              "       [44509.],\n",
              "       [44510.],\n",
              "       [44511.],\n",
              "       [44512.],\n",
              "       [44515.],\n",
              "       [44516.],\n",
              "       [44517.],\n",
              "       [44518.],\n",
              "       [44522.],\n",
              "       [44523.],\n",
              "       [44524.],\n",
              "       [44525.],\n",
              "       [44526.],\n",
              "       [44529.],\n",
              "       [44530.],\n",
              "       [44531.],\n",
              "       [44532.],\n",
              "       [44533.],\n",
              "       [44536.],\n",
              "       [44537.],\n",
              "       [44538.],\n",
              "       [44539.],\n",
              "       [44540.],\n",
              "       [44543.],\n",
              "       [44544.],\n",
              "       [44545.],\n",
              "       [44546.],\n",
              "       [44547.],\n",
              "       [44550.],\n",
              "       [44551.],\n",
              "       [44552.],\n",
              "       [44553.],\n",
              "       [44554.],\n",
              "       [44557.],\n",
              "       [44558.],\n",
              "       [44559.],\n",
              "       [44560.],\n",
              "       [44561.],\n",
              "       [44564.],\n",
              "       [44565.],\n",
              "       [44566.],\n",
              "       [44567.],\n",
              "       [44568.],\n",
              "       [44571.],\n",
              "       [44572.],\n",
              "       [44573.],\n",
              "       [44574.],\n",
              "       [44575.],\n",
              "       [44578.],\n",
              "       [44579.],\n",
              "       [44580.],\n",
              "       [44581.],\n",
              "       [44582.],\n",
              "       [44585.],\n",
              "       [44586.],\n",
              "       [44588.],\n",
              "       [44589.],\n",
              "       [44592.],\n",
              "       [44593.],\n",
              "       [44594.],\n",
              "       [44595.],\n",
              "       [44596.],\n",
              "       [44599.],\n",
              "       [44600.],\n",
              "       [44601.],\n",
              "       [44602.],\n",
              "       [44603.],\n",
              "       [44606.],\n",
              "       [44607.],\n",
              "       [44608.],\n",
              "       [44609.],\n",
              "       [44610.],\n",
              "       [44613.],\n",
              "       [44614.],\n",
              "       [44615.],\n",
              "       [44616.],\n",
              "       [44617.],\n",
              "       [44620.],\n",
              "       [44622.],\n",
              "       [44623.],\n",
              "       [44624.],\n",
              "       [44627.],\n",
              "       [44628.],\n",
              "       [44629.],\n",
              "       [44630.],\n",
              "       [44631.],\n",
              "       [44634.],\n",
              "       [44635.],\n",
              "       [44636.],\n",
              "       [44637.],\n",
              "       [44641.],\n",
              "       [44642.],\n",
              "       [44643.],\n",
              "       [44644.],\n",
              "       [44645.],\n",
              "       [44648.],\n",
              "       [44649.],\n",
              "       [44650.],\n",
              "       [44651.],\n",
              "       [44652.],\n",
              "       [44655.],\n",
              "       [44656.],\n",
              "       [44657.],\n",
              "       [44658.],\n",
              "       [44659.],\n",
              "       [44662.],\n",
              "       [44663.],\n",
              "       [44664.],\n",
              "       [44669.],\n",
              "       [44670.],\n",
              "       [44671.],\n",
              "       [44672.],\n",
              "       [44673.],\n",
              "       [44676.],\n",
              "       [44677.],\n",
              "       [44678.],\n",
              "       [44679.],\n",
              "       [44680.],\n",
              "       [44683.],\n",
              "       [44685.],\n",
              "       [44686.],\n",
              "       [44687.],\n",
              "       [44690.],\n",
              "       [44691.],\n",
              "       [44692.],\n",
              "       [44693.],\n",
              "       [44694.],\n",
              "       [44697.],\n",
              "       [44698.],\n",
              "       [44699.],\n",
              "       [44700.],\n",
              "       [44701.],\n",
              "       [44704.],\n",
              "       [44705.],\n",
              "       [44706.],\n",
              "       [44707.],\n",
              "       [44708.],\n",
              "       [44711.],\n",
              "       [44712.],\n",
              "       [44713.],\n",
              "       [44714.],\n",
              "       [44715.],\n",
              "       [44718.],\n",
              "       [44719.],\n",
              "       [44720.],\n",
              "       [44721.],\n",
              "       [44722.],\n",
              "       [44725.],\n",
              "       [44726.],\n",
              "       [44727.],\n",
              "       [44728.],\n",
              "       [44729.],\n",
              "       [44732.],\n",
              "       [44733.],\n",
              "       [44734.],\n",
              "       [44735.],\n",
              "       [44736.],\n",
              "       [44739.],\n",
              "       [44740.],\n",
              "       [44741.],\n",
              "       [44742.],\n",
              "       [44743.],\n",
              "       [44746.],\n",
              "       [44747.],\n",
              "       [44748.],\n",
              "       [44749.],\n",
              "       [44750.],\n",
              "       [44753.],\n",
              "       [44754.],\n",
              "       [44755.],\n",
              "       [44756.],\n",
              "       [44757.],\n",
              "       [44760.],\n",
              "       [44761.],\n",
              "       [44762.],\n",
              "       [44763.],\n",
              "       [44764.],\n",
              "       [44767.],\n",
              "       [44768.],\n",
              "       [44769.],\n",
              "       [44770.],\n",
              "       [44771.],\n",
              "       [44774.],\n",
              "       [44775.],\n",
              "       [44776.],\n",
              "       [44777.],\n",
              "       [44778.],\n",
              "       [44781.],\n",
              "       [44783.],\n",
              "       [44784.],\n",
              "       [44785.],\n",
              "       [44789.],\n",
              "       [44790.]])"
            ]
          },
          "metadata": {},
          "execution_count": 6
        }
      ]
    },
    {
      "cell_type": "code",
      "source": [
        "y = dataset.iloc[:, -1].values"
      ],
      "metadata": {
        "id": "qIIjDwpLNOcm"
      },
      "execution_count": 7,
      "outputs": []
    },
    {
      "cell_type": "code",
      "source": [
        "y"
      ],
      "metadata": {
        "colab": {
          "base_uri": "https://localhost:8080/"
        },
        "id": "rLsqlhA_NSJ_",
        "outputId": "31c36b68-105c-4a4d-86e8-f110821857b7"
      },
      "execution_count": 8,
      "outputs": [
        {
          "output_type": "execute_result",
          "data": {
            "text/plain": [
              "array([2433.      , 2485.      , 2490.      , 2625.      , 2634.      ,\n",
              "       2632.      , 2631.      , 2669.      , 2691.600098, 2687.899902,\n",
              "       2745.      , 2748.      , 2802.199951, 2790.      , 2788.600098,\n",
              "       2788.899902, 2782.      , 2797.5     , 2802.      , 2774.      ,\n",
              "       2752.      , 2770.100098, 2720.      , 2810.      , 2827.899902,\n",
              "       2799.      , 2770.100098, 2765.      , 2725.      , 2714.949951,\n",
              "       2685.300049, 2706.      , 2700.      , 2686.199951, 2694.050049,\n",
              "       2698.      , 2670.5     , 2642.199951, 2625.      , 2688.100098,\n",
              "       2646.75    , 2672.800049, 2669.899902, 2569.      , 2503.399902,\n",
              "       2459.      , 2454.100098, 2468.899902, 2455.      , 2400.      ,\n",
              "       2400.      , 2393.      , 2415.      , 2434.      , 2429.      ,\n",
              "       2449.      , 2439.800049, 2411.050049, 2402.699951, 2388.      ,\n",
              "       2404.100098, 2434.649902, 2404.      , 2390.      , 2409.399902,\n",
              "       2387.800049, 2406.      , 2387.      , 2344.      , 2334.399902,\n",
              "       2322.      , 2340.      , 2357.      , 2383.300049, 2344.      ,\n",
              "       2327.899902, 2318.25    , 2341.      , 2347.      , 2352.      ,\n",
              "       2305.      , 2316.      , 2320.949951, 2303.      , 2226.      ,\n",
              "       2290.      , 2300.      , 2298.949951, 2310.      , 2296.949951,\n",
              "       2310.      , 2314.899902, 2308.      , 2340.      , 2378.      ,\n",
              "       2368.949951, 2403.800049, 2398.      , 2388.      , 2425.      ,\n",
              "       2417.149902, 2407.199951, 2418.      , 2420.      , 2364.      ,\n",
              "       2408.699951, 2364.      , 2325.      , 2264.800049, 2338.899902,\n",
              "       2283.5     , 2310.      , 2294.600098, 2290.      , 2303.300049,\n",
              "       2324.100098, 2329.      , 2306.      , 2295.25    , 2268.      ,\n",
              "       2267.550049, 2280.      , 2279.      , 2220.      , 2247.949951,\n",
              "       2290.100098, 2282.      , 2294.      , 2298.      , 2280.      ,\n",
              "       2270.      , 2200.      , 2195.      , 2164.      , 2128.949951,\n",
              "       2157.899902, 2075.      , 1979.5     , 1924.550049, 1964.      ,\n",
              "       2051.899902, 2100.      , 2095.      , 2045.      , 2060.      ,\n",
              "       2098.100098, 2106.5     , 2053.75    , 2012.      , 1970.      ,\n",
              "       1974.900024, 1959.949951, 1980.      , 2000.      , 2019.400024,\n",
              "       2054.899902, 2078.      , 2144.5     , 2135.      , 2139.949951,\n",
              "       2177.699951, 2188.      , 2140.899902, 2137.699951, 2148.      ,\n",
              "       2185.699951, 2114.399902, 2185.      , 2182.      , 2100.      ,\n",
              "       2142.199951, 2147.800049, 2230.      , 2244.399902, 2220.      ,\n",
              "       2241.949951, 2178.      , 2125.      , 2121.5     , 2134.      ,\n",
              "       2185.      , 2164.850098, 2170.      , 2200.      , 2237.899902,\n",
              "       2236.100098, 2245.600098, 2290.      , 2309.      , 2380.      ,\n",
              "       2329.949951, 2290.149902, 2297.      , 2342.199951, 2360.      ,\n",
              "       2370.      , 2295.      , 2284.      , 2272.199951, 2250.      ,\n",
              "       2215.      , 2197.      , 2163.      , 2168.      , 2190.850098,\n",
              "       2158.699951, 2145.      , 2160.      , 2111.      , 2195.      ,\n",
              "       2189.199951, 2208.      , 2265.      , 2315.850098, 2320.649902,\n",
              "       2296.199951, 2224.899902, 2226.      , 2276.      , 2384.5     ,\n",
              "       2400.      , 2505.      , 2476.449951, 2487.      , 2475.      ,\n",
              "       2464.      , 2502.75    , 2530.      , 2581.      , 2549.949951,\n",
              "       2575.      , 2617.      , 2617.      , 2645.5     , 2625.      ,\n",
              "       2535.350098, 2625.      , 2640.      , 2637.5     , 2600.      ,\n",
              "       2615.25    , 2634.      , 2638.      , 2645.399902, 2650.350098,\n",
              "       2656.050049, 2624.899902, 2607.949951, 2651.      ])"
            ]
          },
          "metadata": {},
          "execution_count": 8
        }
      ]
    },
    {
      "cell_type": "code",
      "source": [
        "from sklearn.model_selection import train_test_split\n",
        "x_train, x_test, y_train, y_test = train_test_split(x, y, test_size = 0.2, random_state = 0)"
      ],
      "metadata": {
        "id": "ZkWBCx-ENTP9"
      },
      "execution_count": 9,
      "outputs": []
    },
    {
      "cell_type": "code",
      "source": [
        "from sklearn.linear_model import LinearRegression\n",
        "regressor = LinearRegression()\n",
        "regressor.fit(x_train, y_train)"
      ],
      "metadata": {
        "colab": {
          "base_uri": "https://localhost:8080/"
        },
        "id": "_dZdtD5mNdas",
        "outputId": "2759090b-67e6-4d39-bea4-aab852d84ec9"
      },
      "execution_count": 10,
      "outputs": [
        {
          "output_type": "execute_result",
          "data": {
            "text/plain": [
              "LinearRegression()"
            ]
          },
          "metadata": {},
          "execution_count": 10
        }
      ]
    },
    {
      "cell_type": "code",
      "source": [
        "y_pred = regressor.predict(x_test)"
      ],
      "metadata": {
        "id": "NY6JhGTLNg1a"
      },
      "execution_count": 11,
      "outputs": []
    },
    {
      "cell_type": "code",
      "source": [
        "y_pred"
      ],
      "metadata": {
        "colab": {
          "base_uri": "https://localhost:8080/"
        },
        "id": "IIbqshp_NizI",
        "outputId": "6394b10a-d844-469c-a1db-640e3237c6a6"
      },
      "execution_count": 12,
      "outputs": [
        {
          "output_type": "execute_result",
          "data": {
            "text/plain": [
              "array([2217.763084  , 2321.23212402, 2440.61947788, 2345.99394556,\n",
              "       2353.06875171, 2445.04123173, 2482.18396404, 2334.49738556,\n",
              "       2256.67451785, 2262.86497324, 2415.85765634, 2278.78328709,\n",
              "       2432.66032096, 2309.73556401, 2330.95998248, 2277.89893632,\n",
              "       2467.15000096, 2390.21148403, 2243.40925631, 2421.16376095,\n",
              "       2275.24588401, 2365.44966248, 2330.07563171, 2423.81681326,\n",
              "       2483.06831481, 2271.70848093, 2491.9118225 , 2396.40193941,\n",
              "       2458.30649327, 2399.05499172, 2386.67408095, 2529.05455482,\n",
              "       2292.9328994 , 2454.76909019, 2373.40881941, 2533.47630866,\n",
              "       2510.48318866, 2378.71492402, 2525.51715174, 2315.04166863,\n",
              "       2228.37529323, 2247.83101016, 2402.5923948 , 2337.15043786,\n",
              "       2441.50382865, 2306.19816094, 2235.45009939, 2372.52446864,\n",
              "       2442.38817942, 2249.5997117 ])"
            ]
          },
          "metadata": {},
          "execution_count": 12
        }
      ]
    },
    {
      "cell_type": "code",
      "source": [
        "plt.scatter(x_test, y_test, color = 'red')\n",
        "plt.scatter(x_train, y_train, color = 'green')\n",
        "plt.plot(x_test, y_pred, color = 'blue')\n",
        "plt.xlabel('Volume')\n",
        "plt.ylabel('Profit')\n",
        "plt.show()"
      ],
      "metadata": {
        "colab": {
          "base_uri": "https://localhost:8080/",
          "height": 279
        },
        "id": "T3VNm7CiNj5v",
        "outputId": "948e2a35-e385-458f-daad-25e853bb8600"
      },
      "execution_count": 13,
      "outputs": [
        {
          "output_type": "display_data",
          "data": {
            "text/plain": [
              "<Figure size 432x288 with 1 Axes>"
            ],
            "image/png": "[encoded data removed]"
          },
          "metadata": {
            "needs_background": "light"
          }
        }
      ]
    },
    {
      "cell_type": "code",
      "source": [
        ""
      ],
      "metadata": {
        "id": "sauxPp9mNt5h"
      },
      "execution_count": null,
      "outputs": []
    }
  ]
}