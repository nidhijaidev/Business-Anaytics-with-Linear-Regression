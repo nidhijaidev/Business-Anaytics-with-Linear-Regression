{
  "nbformat": 4,
  "nbformat_minor": 0,
  "metadata": {
    "colab": {
      "name": "HUL_SVR.ipynb",
      "provenance": [],
      "collapsed_sections": []
    },
    "kernelspec": {
      "name": "python3",
      "display_name": "Python 3"
    },
    "language_info": {
      "name": "python"
    }
  },
  "cells": [
    {
      "cell_type": "code",
      "execution_count": null,
      "metadata": {
        "id": "fmGw2HXaECTc"
      },
      "outputs": [],
      "source": [
        "import numpy as np\n",
        "import matplotlib.pyplot as plt\n",
        "import pandas as pd"
      ]
    },
    {
      "cell_type": "code",
      "source": [
        "dataset = pd.read_csv('/content/HINDUNILVR.NS.csv')"
      ],
      "metadata": {
        "id": "KCNBS9b7EnB5"
      },
      "execution_count": null,
      "outputs": []
    },
    {
      "cell_type": "code",
      "source": [
        "x = dataset.iloc[:, :-1].values"
      ],
      "metadata": {
        "id": "mM0Vs9xsEvS8"
      },
      "execution_count": null,
      "outputs": []
    },
    {
      "cell_type": "code",
      "source": [
        "y = dataset.iloc[:, -1].values"
      ],
      "metadata": {
        "id": "0LLEpbl8E_jM"
      },
      "execution_count": null,
      "outputs": []
    },
    {
      "cell_type": "code",
      "source": [
        "x"
      ],
      "metadata": {
        "colab": {
          "base_uri": "https://localhost:8080/"
        },
        "id": "bbnJZVl5FBXB",
        "outputId": "3a234b1b-488e-4759-eaca-9e5646dfa923"
      },
      "execution_count": null,
      "outputs": [
        {
          "output_type": "execute_result",
          "data": {
            "text/plain": [
              "array([[44425.],\n",
              "       [44426.],\n",
              "       [44428.],\n",
              "       [44431.],\n",
              "       [44432.],\n",
              "       [44433.],\n",
              "       [44434.],\n",
              "       [44435.],\n",
              "       [44438.],\n",
              "       [44439.],\n",
              "       [44440.],\n",
              "       [44441.],\n",
              "       [44442.],\n",
              "       [44445.],\n",
              "       [44446.],\n",
              "       [44447.],\n",
              "       [44448.],\n",
              "       [44452.],\n",
              "       [44453.],\n",
              "       [44454.],\n",
              "       [44455.],\n",
              "       [44456.],\n",
              "       [44459.],\n",
              "       [44460.],\n",
              "       [44461.],\n",
              "       [44462.],\n",
              "       [44463.],\n",
              "       [44466.],\n",
              "       [44467.],\n",
              "       [44468.],\n",
              "       [44469.],\n",
              "       [44470.],\n",
              "       [44473.],\n",
              "       [44474.],\n",
              "       [44475.],\n",
              "       [44476.],\n",
              "       [44477.],\n",
              "       [44480.],\n",
              "       [44481.],\n",
              "       [44482.],\n",
              "       [44483.],\n",
              "       [44487.],\n",
              "       [44488.],\n",
              "       [44489.],\n",
              "       [44490.],\n",
              "       [44491.],\n",
              "       [44494.],\n",
              "       [44495.],\n",
              "       [44496.],\n",
              "       [44497.],\n",
              "       [44498.],\n",
              "       [44501.],\n",
              "       [44502.],\n",
              "       [44503.],\n",
              "       [44504.],\n",
              "       [44508.],\n",
              "       [44509.],\n",
              "       [44510.],\n",
              "       [44511.],\n",
              "       [44512.],\n",
              "       [44515.],\n",
              "       [44516.],\n",
              "       [44517.],\n",
              "       [44518.],\n",
              "       [44522.],\n",
              "       [44523.],\n",
              "       [44524.],\n",
              "       [44525.],\n",
              "       [44526.],\n",
              "       [44529.],\n",
              "       [44530.],\n",
              "       [44531.],\n",
              "       [44532.],\n",
              "       [44533.],\n",
              "       [44536.],\n",
              "       [44537.],\n",
              "       [44538.],\n",
              "       [44539.],\n",
              "       [44540.],\n",
              "       [44543.],\n",
              "       [44544.],\n",
              "       [44545.],\n",
              "       [44546.],\n",
              "       [44547.],\n",
              "       [44550.],\n",
              "       [44551.],\n",
              "       [44552.],\n",
              "       [44553.],\n",
              "       [44554.],\n",
              "       [44557.],\n",
              "       [44558.],\n",
              "       [44559.],\n",
              "       [44560.],\n",
              "       [44561.],\n",
              "       [44564.],\n",
              "       [44565.],\n",
              "       [44566.],\n",
              "       [44567.],\n",
              "       [44568.],\n",
              "       [44571.],\n",
              "       [44572.],\n",
              "       [44573.],\n",
              "       [44574.],\n",
              "       [44575.],\n",
              "       [44578.],\n",
              "       [44579.],\n",
              "       [44580.],\n",
              "       [44581.],\n",
              "       [44582.],\n",
              "       [44585.],\n",
              "       [44586.],\n",
              "       [44588.],\n",
              "       [44589.],\n",
              "       [44592.],\n",
              "       [44593.],\n",
              "       [44594.],\n",
              "       [44595.],\n",
              "       [44596.],\n",
              "       [44599.],\n",
              "       [44600.],\n",
              "       [44601.],\n",
              "       [44602.],\n",
              "       [44603.],\n",
              "       [44606.],\n",
              "       [44607.],\n",
              "       [44608.],\n",
              "       [44609.],\n",
              "       [44610.],\n",
              "       [44613.],\n",
              "       [44614.],\n",
              "       [44615.],\n",
              "       [44616.],\n",
              "       [44617.],\n",
              "       [44620.],\n",
              "       [44622.],\n",
              "       [44623.],\n",
              "       [44624.],\n",
              "       [44627.],\n",
              "       [44628.],\n",
              "       [44629.],\n",
              "       [44630.],\n",
              "       [44631.],\n",
              "       [44634.],\n",
              "       [44635.],\n",
              "       [44636.],\n",
              "       [44637.],\n",
              "       [44641.],\n",
              "       [44642.],\n",
              "       [44643.],\n",
              "       [44644.],\n",
              "       [44645.],\n",
              "       [44648.],\n",
              "       [44649.],\n",
              "       [44650.],\n",
              "       [44651.],\n",
              "       [44652.],\n",
              "       [44655.],\n",
              "       [44656.],\n",
              "       [44657.],\n",
              "       [44658.],\n",
              "       [44659.],\n",
              "       [44662.],\n",
              "       [44663.],\n",
              "       [44664.],\n",
              "       [44669.],\n",
              "       [44670.],\n",
              "       [44671.],\n",
              "       [44672.],\n",
              "       [44673.],\n",
              "       [44676.],\n",
              "       [44677.],\n",
              "       [44678.],\n",
              "       [44679.],\n",
              "       [44680.],\n",
              "       [44683.],\n",
              "       [44685.],\n",
              "       [44686.],\n",
              "       [44687.],\n",
              "       [44690.],\n",
              "       [44691.],\n",
              "       [44692.],\n",
              "       [44693.],\n",
              "       [44694.],\n",
              "       [44697.],\n",
              "       [44698.],\n",
              "       [44699.],\n",
              "       [44700.],\n",
              "       [44701.],\n",
              "       [44704.],\n",
              "       [44705.],\n",
              "       [44706.],\n",
              "       [44707.],\n",
              "       [44708.],\n",
              "       [44711.],\n",
              "       [44712.],\n",
              "       [44713.],\n",
              "       [44714.],\n",
              "       [44715.],\n",
              "       [44718.],\n",
              "       [44719.],\n",
              "       [44720.],\n",
              "       [44721.],\n",
              "       [44722.],\n",
              "       [44725.],\n",
              "       [44726.],\n",
              "       [44727.],\n",
              "       [44728.],\n",
              "       [44729.],\n",
              "       [44732.],\n",
              "       [44733.],\n",
              "       [44734.],\n",
              "       [44735.],\n",
              "       [44736.],\n",
              "       [44739.],\n",
              "       [44740.],\n",
              "       [44741.],\n",
              "       [44742.],\n",
              "       [44743.],\n",
              "       [44746.],\n",
              "       [44747.],\n",
              "       [44748.],\n",
              "       [44749.],\n",
              "       [44750.],\n",
              "       [44753.],\n",
              "       [44754.],\n",
              "       [44755.],\n",
              "       [44756.],\n",
              "       [44757.],\n",
              "       [44760.],\n",
              "       [44761.],\n",
              "       [44762.],\n",
              "       [44763.],\n",
              "       [44764.],\n",
              "       [44767.],\n",
              "       [44768.],\n",
              "       [44769.],\n",
              "       [44770.],\n",
              "       [44771.],\n",
              "       [44774.],\n",
              "       [44775.],\n",
              "       [44776.],\n",
              "       [44777.],\n",
              "       [44778.],\n",
              "       [44781.],\n",
              "       [44783.],\n",
              "       [44784.],\n",
              "       [44785.],\n",
              "       [44789.],\n",
              "       [44790.]])"
            ]
          },
          "metadata": {},
          "execution_count": 13
        }
      ]
    },
    {
      "cell_type": "code",
      "source": [
        "y"
      ],
      "metadata": {
        "colab": {
          "base_uri": "https://localhost:8080/"
        },
        "id": "u3eqdu7lFFwe",
        "outputId": "5190c326-942e-4ac4-e2a5-265db014926a"
      },
      "execution_count": null,
      "outputs": [
        {
          "output_type": "execute_result",
          "data": {
            "text/plain": [
              "array([2433.      , 2485.      , 2490.      , 2625.      , 2634.      ,\n",
              "       2632.      , 2631.      , 2669.      , 2691.600098, 2687.899902,\n",
              "       2745.      , 2748.      , 2802.199951, 2790.      , 2788.600098,\n",
              "       2788.899902, 2782.      , 2797.5     , 2802.      , 2774.      ,\n",
              "       2752.      , 2770.100098, 2720.      , 2810.      , 2827.899902,\n",
              "       2799.      , 2770.100098, 2765.      , 2725.      , 2714.949951,\n",
              "       2685.300049, 2706.      , 2700.      , 2686.199951, 2694.050049,\n",
              "       2698.      , 2670.5     , 2642.199951, 2625.      , 2688.100098,\n",
              "       2646.75    , 2672.800049, 2669.899902, 2569.      , 2503.399902,\n",
              "       2459.      , 2454.100098, 2468.899902, 2455.      , 2400.      ,\n",
              "       2400.      , 2393.      , 2415.      , 2434.      , 2429.      ,\n",
              "       2449.      , 2439.800049, 2411.050049, 2402.699951, 2388.      ,\n",
              "       2404.100098, 2434.649902, 2404.      , 2390.      , 2409.399902,\n",
              "       2387.800049, 2406.      , 2387.      , 2344.      , 2334.399902,\n",
              "       2322.      , 2340.      , 2357.      , 2383.300049, 2344.      ,\n",
              "       2327.899902, 2318.25    , 2341.      , 2347.      , 2352.      ,\n",
              "       2305.      , 2316.      , 2320.949951, 2303.      , 2226.      ,\n",
              "       2290.      , 2300.      , 2298.949951, 2310.      , 2296.949951,\n",
              "       2310.      , 2314.899902, 2308.      , 2340.      , 2378.      ,\n",
              "       2368.949951, 2403.800049, 2398.      , 2388.      , 2425.      ,\n",
              "       2417.149902, 2407.199951, 2418.      , 2420.      , 2364.      ,\n",
              "       2408.699951, 2364.      , 2325.      , 2264.800049, 2338.899902,\n",
              "       2283.5     , 2310.      , 2294.600098, 2290.      , 2303.300049,\n",
              "       2324.100098, 2329.      , 2306.      , 2295.25    , 2268.      ,\n",
              "       2267.550049, 2280.      , 2279.      , 2220.      , 2247.949951,\n",
              "       2290.100098, 2282.      , 2294.      , 2298.      , 2280.      ,\n",
              "       2270.      , 2200.      , 2195.      , 2164.      , 2128.949951,\n",
              "       2157.899902, 2075.      , 1979.5     , 1924.550049, 1964.      ,\n",
              "       2051.899902, 2100.      , 2095.      , 2045.      , 2060.      ,\n",
              "       2098.100098, 2106.5     , 2053.75    , 2012.      , 1970.      ,\n",
              "       1974.900024, 1959.949951, 1980.      , 2000.      , 2019.400024,\n",
              "       2054.899902, 2078.      , 2144.5     , 2135.      , 2139.949951,\n",
              "       2177.699951, 2188.      , 2140.899902, 2137.699951, 2148.      ,\n",
              "       2185.699951, 2114.399902, 2185.      , 2182.      , 2100.      ,\n",
              "       2142.199951, 2147.800049, 2230.      , 2244.399902, 2220.      ,\n",
              "       2241.949951, 2178.      , 2125.      , 2121.5     , 2134.      ,\n",
              "       2185.      , 2164.850098, 2170.      , 2200.      , 2237.899902,\n",
              "       2236.100098, 2245.600098, 2290.      , 2309.      , 2380.      ,\n",
              "       2329.949951, 2290.149902, 2297.      , 2342.199951, 2360.      ,\n",
              "       2370.      , 2295.      , 2284.      , 2272.199951, 2250.      ,\n",
              "       2215.      , 2197.      , 2163.      , 2168.      , 2190.850098,\n",
              "       2158.699951, 2145.      , 2160.      , 2111.      , 2195.      ,\n",
              "       2189.199951, 2208.      , 2265.      , 2315.850098, 2320.649902,\n",
              "       2296.199951, 2224.899902, 2226.      , 2276.      , 2384.5     ,\n",
              "       2400.      , 2505.      , 2476.449951, 2487.      , 2475.      ,\n",
              "       2464.      , 2502.75    , 2530.      , 2581.      , 2549.949951,\n",
              "       2575.      , 2617.      , 2617.      , 2645.5     , 2625.      ,\n",
              "       2535.350098, 2625.      , 2640.      , 2637.5     , 2600.      ,\n",
              "       2615.25    , 2634.      , 2638.      , 2645.399902, 2650.350098,\n",
              "       2656.050049, 2624.899902, 2607.949951, 2651.      ])"
            ]
          },
          "metadata": {},
          "execution_count": 14
        }
      ]
    },
    {
      "cell_type": "code",
      "source": [
        "y = y.reshape(len(y),1)"
      ],
      "metadata": {
        "id": "688Pn_PHFR1r"
      },
      "execution_count": null,
      "outputs": []
    },
    {
      "cell_type": "code",
      "source": [
        "y"
      ],
      "metadata": {
        "colab": {
          "base_uri": "https://localhost:8080/"
        },
        "id": "IfCTpHe0FVxj",
        "outputId": "e5dc5e21-d95c-499e-e121-d8a04c519323"
      },
      "execution_count": null,
      "outputs": [
        {
          "output_type": "execute_result",
          "data": {
            "text/plain": [
              "array([[2433.      ],\n",
              "       [2485.      ],\n",
              "       [2490.      ],\n",
              "       [2625.      ],\n",
              "       [2634.      ],\n",
              "       [2632.      ],\n",
              "       [2631.      ],\n",
              "       [2669.      ],\n",
              "       [2691.600098],\n",
              "       [2687.899902],\n",
              "       [2745.      ],\n",
              "       [2748.      ],\n",
              "       [2802.199951],\n",
              "       [2790.      ],\n",
              "       [2788.600098],\n",
              "       [2788.899902],\n",
              "       [2782.      ],\n",
              "       [2797.5     ],\n",
              "       [2802.      ],\n",
              "       [2774.      ],\n",
              "       [2752.      ],\n",
              "       [2770.100098],\n",
              "       [2720.      ],\n",
              "       [2810.      ],\n",
              "       [2827.899902],\n",
              "       [2799.      ],\n",
              "       [2770.100098],\n",
              "       [2765.      ],\n",
              "       [2725.      ],\n",
              "       [2714.949951],\n",
              "       [2685.300049],\n",
              "       [2706.      ],\n",
              "       [2700.      ],\n",
              "       [2686.199951],\n",
              "       [2694.050049],\n",
              "       [2698.      ],\n",
              "       [2670.5     ],\n",
              "       [2642.199951],\n",
              "       [2625.      ],\n",
              "       [2688.100098],\n",
              "       [2646.75    ],\n",
              "       [2672.800049],\n",
              "       [2669.899902],\n",
              "       [2569.      ],\n",
              "       [2503.399902],\n",
              "       [2459.      ],\n",
              "       [2454.100098],\n",
              "       [2468.899902],\n",
              "       [2455.      ],\n",
              "       [2400.      ],\n",
              "       [2400.      ],\n",
              "       [2393.      ],\n",
              "       [2415.      ],\n",
              "       [2434.      ],\n",
              "       [2429.      ],\n",
              "       [2449.      ],\n",
              "       [2439.800049],\n",
              "       [2411.050049],\n",
              "       [2402.699951],\n",
              "       [2388.      ],\n",
              "       [2404.100098],\n",
              "       [2434.649902],\n",
              "       [2404.      ],\n",
              "       [2390.      ],\n",
              "       [2409.399902],\n",
              "       [2387.800049],\n",
              "       [2406.      ],\n",
              "       [2387.      ],\n",
              "       [2344.      ],\n",
              "       [2334.399902],\n",
              "       [2322.      ],\n",
              "       [2340.      ],\n",
              "       [2357.      ],\n",
              "       [2383.300049],\n",
              "       [2344.      ],\n",
              "       [2327.899902],\n",
              "       [2318.25    ],\n",
              "       [2341.      ],\n",
              "       [2347.      ],\n",
              "       [2352.      ],\n",
              "       [2305.      ],\n",
              "       [2316.      ],\n",
              "       [2320.949951],\n",
              "       [2303.      ],\n",
              "       [2226.      ],\n",
              "       [2290.      ],\n",
              "       [2300.      ],\n",
              "       [2298.949951],\n",
              "       [2310.      ],\n",
              "       [2296.949951],\n",
              "       [2310.      ],\n",
              "       [2314.899902],\n",
              "       [2308.      ],\n",
              "       [2340.      ],\n",
              "       [2378.      ],\n",
              "       [2368.949951],\n",
              "       [2403.800049],\n",
              "       [2398.      ],\n",
              "       [2388.      ],\n",
              "       [2425.      ],\n",
              "       [2417.149902],\n",
              "       [2407.199951],\n",
              "       [2418.      ],\n",
              "       [2420.      ],\n",
              "       [2364.      ],\n",
              "       [2408.699951],\n",
              "       [2364.      ],\n",
              "       [2325.      ],\n",
              "       [2264.800049],\n",
              "       [2338.899902],\n",
              "       [2283.5     ],\n",
              "       [2310.      ],\n",
              "       [2294.600098],\n",
              "       [2290.      ],\n",
              "       [2303.300049],\n",
              "       [2324.100098],\n",
              "       [2329.      ],\n",
              "       [2306.      ],\n",
              "       [2295.25    ],\n",
              "       [2268.      ],\n",
              "       [2267.550049],\n",
              "       [2280.      ],\n",
              "       [2279.      ],\n",
              "       [2220.      ],\n",
              "       [2247.949951],\n",
              "       [2290.100098],\n",
              "       [2282.      ],\n",
              "       [2294.      ],\n",
              "       [2298.      ],\n",
              "       [2280.      ],\n",
              "       [2270.      ],\n",
              "       [2200.      ],\n",
              "       [2195.      ],\n",
              "       [2164.      ],\n",
              "       [2128.949951],\n",
              "       [2157.899902],\n",
              "       [2075.      ],\n",
              "       [1979.5     ],\n",
              "       [1924.550049],\n",
              "       [1964.      ],\n",
              "       [2051.899902],\n",
              "       [2100.      ],\n",
              "       [2095.      ],\n",
              "       [2045.      ],\n",
              "       [2060.      ],\n",
              "       [2098.100098],\n",
              "       [2106.5     ],\n",
              "       [2053.75    ],\n",
              "       [2012.      ],\n",
              "       [1970.      ],\n",
              "       [1974.900024],\n",
              "       [1959.949951],\n",
              "       [1980.      ],\n",
              "       [2000.      ],\n",
              "       [2019.400024],\n",
              "       [2054.899902],\n",
              "       [2078.      ],\n",
              "       [2144.5     ],\n",
              "       [2135.      ],\n",
              "       [2139.949951],\n",
              "       [2177.699951],\n",
              "       [2188.      ],\n",
              "       [2140.899902],\n",
              "       [2137.699951],\n",
              "       [2148.      ],\n",
              "       [2185.699951],\n",
              "       [2114.399902],\n",
              "       [2185.      ],\n",
              "       [2182.      ],\n",
              "       [2100.      ],\n",
              "       [2142.199951],\n",
              "       [2147.800049],\n",
              "       [2230.      ],\n",
              "       [2244.399902],\n",
              "       [2220.      ],\n",
              "       [2241.949951],\n",
              "       [2178.      ],\n",
              "       [2125.      ],\n",
              "       [2121.5     ],\n",
              "       [2134.      ],\n",
              "       [2185.      ],\n",
              "       [2164.850098],\n",
              "       [2170.      ],\n",
              "       [2200.      ],\n",
              "       [2237.899902],\n",
              "       [2236.100098],\n",
              "       [2245.600098],\n",
              "       [2290.      ],\n",
              "       [2309.      ],\n",
              "       [2380.      ],\n",
              "       [2329.949951],\n",
              "       [2290.149902],\n",
              "       [2297.      ],\n",
              "       [2342.199951],\n",
              "       [2360.      ],\n",
              "       [2370.      ],\n",
              "       [2295.      ],\n",
              "       [2284.      ],\n",
              "       [2272.199951],\n",
              "       [2250.      ],\n",
              "       [2215.      ],\n",
              "       [2197.      ],\n",
              "       [2163.      ],\n",
              "       [2168.      ],\n",
              "       [2190.850098],\n",
              "       [2158.699951],\n",
              "       [2145.      ],\n",
              "       [2160.      ],\n",
              "       [2111.      ],\n",
              "       [2195.      ],\n",
              "       [2189.199951],\n",
              "       [2208.      ],\n",
              "       [2265.      ],\n",
              "       [2315.850098],\n",
              "       [2320.649902],\n",
              "       [2296.199951],\n",
              "       [2224.899902],\n",
              "       [2226.      ],\n",
              "       [2276.      ],\n",
              "       [2384.5     ],\n",
              "       [2400.      ],\n",
              "       [2505.      ],\n",
              "       [2476.449951],\n",
              "       [2487.      ],\n",
              "       [2475.      ],\n",
              "       [2464.      ],\n",
              "       [2502.75    ],\n",
              "       [2530.      ],\n",
              "       [2581.      ],\n",
              "       [2549.949951],\n",
              "       [2575.      ],\n",
              "       [2617.      ],\n",
              "       [2617.      ],\n",
              "       [2645.5     ],\n",
              "       [2625.      ],\n",
              "       [2535.350098],\n",
              "       [2625.      ],\n",
              "       [2640.      ],\n",
              "       [2637.5     ],\n",
              "       [2600.      ],\n",
              "       [2615.25    ],\n",
              "       [2634.      ],\n",
              "       [2638.      ],\n",
              "       [2645.399902],\n",
              "       [2650.350098],\n",
              "       [2656.050049],\n",
              "       [2624.899902],\n",
              "       [2607.949951],\n",
              "       [2651.      ]])"
            ]
          },
          "metadata": {},
          "execution_count": 16
        }
      ]
    },
    {
      "cell_type": "code",
      "source": [
        "from sklearn.svm import SVR\n",
        "regressor = SVR()\n",
        "regressor.fit(x, y)"
      ],
      "metadata": {
        "colab": {
          "base_uri": "https://localhost:8080/"
        },
        "id": "Uv6tcKiDFZmy",
        "outputId": "0488c671-833a-4cae-92d7-78bc3a641dc8"
      },
      "execution_count": null,
      "outputs": [
        {
          "output_type": "stream",
          "name": "stderr",
          "text": [
            "/usr/local/lib/python3.7/dist-packages/sklearn/utils/validation.py:993: DataConversionWarning: A column-vector y was passed when a 1d array was expected. Please change the shape of y to (n_samples, ), for example using ravel().\n",
            "  y = column_or_1d(y, warn=True)\n"
          ]
        },
        {
          "output_type": "execute_result",
          "data": {
            "text/plain": [
              "SVR()"
            ]
          },
          "metadata": {},
          "execution_count": 17
        }
      ]
    },
    {
      "cell_type": "code",
      "source": [
        "y_pred = regressor.predict(x)"
      ],
      "metadata": {
        "id": "Q6J33OkxFikv"
      },
      "execution_count": null,
      "outputs": []
    },
    {
      "cell_type": "code",
      "source": [
        "y_pred"
      ],
      "metadata": {
        "colab": {
          "base_uri": "https://localhost:8080/"
        },
        "id": "iGmn8XTDFzK4",
        "outputId": "95e18c40-06f2-4d45-b729-05c758878784"
      },
      "execution_count": null,
      "outputs": [
        {
          "output_type": "execute_result",
          "data": {
            "text/plain": [
              "array([2392.19809507, 2392.46704926, 2392.9827734 , 2393.69828541,\n",
              "       2393.92061817, 2394.13458555, 2394.34002283, 2394.53676753,\n",
              "       2395.07325714, 2395.23365516, 2395.38458543, 2395.52590109,\n",
              "       2395.65745823, 2395.99218566, 2396.08333195, 2396.16404776,\n",
              "       2396.23420885, 2396.40694852, 2396.42260084, 2396.42703114,\n",
              "       2396.42014194, 2396.40183987, 2396.27758567, 2396.21278278,\n",
              "       2396.13616398, 2396.04766181, 2395.94721333, 2395.57362905,\n",
              "       2395.42485745, 2395.26389383, 2395.0907031 , 2394.90525491,\n",
              "       2394.27513402, 2394.04044844, 2393.79342571, 2393.5340644 ,\n",
              "       2393.26236789, 2392.37337412, 2392.05246796, 2391.71931636,\n",
              "       2391.37395178, 2389.87118006, 2389.4654045 , 2389.04771067,\n",
              "       2388.61816414, 2388.17683508, 2386.78292278, 2386.2952562 ,\n",
              "       2385.79622575, 2385.28592841, 2384.76446547, 2383.13415939,\n",
              "       2382.56913113, 2381.99350635, 2381.40741098, 2378.96097723,\n",
              "       2378.32455193, 2377.6784911 , 2377.02294653, 2376.35807341,\n",
              "       2374.30908426, 2373.60851447, 2372.89944065, 2372.18203686,\n",
              "       2369.23270286, 2368.47635848, 2367.71278629, 2366.94217887,\n",
              "       2366.16473109, 2363.79332755, 2362.99051077, 2362.18186004,\n",
              "       2361.36758248, 2360.54788699, 2358.05840639, 2357.21916038,\n",
              "       2356.37556447, 2355.52783646, 2354.67619536, 2352.10000021,\n",
              "       2351.23491847, 2350.36703426, 2349.4965723 , 2348.623758  ,\n",
              "       2345.99346425, 2345.11350625, 2344.23233096, 2343.35016651,\n",
              "       2342.46724124, 2339.81618553, 2338.93250216, 2338.04920048,\n",
              "       2337.16650872, 2336.28465488, 2333.64639587, 2332.77016668,\n",
              "       2331.89590966, 2331.02385009, 2330.15421261, 2327.56206807,\n",
              "       2326.70435023, 2325.85016584, 2324.99973443, 2324.15327446,\n",
              "       2321.63989109, 2320.81147878, 2319.98811268, 2319.17000386,\n",
              "       2318.35736194, 2315.95431173, 2315.16560367, 2313.60786358,\n",
              "       2312.83922981, 2310.5766247 , 2309.83749694, 2309.1062221 ,\n",
              "       2308.38298662, 2307.66797482, 2305.57409131, 2304.8937726 ,\n",
              "       2304.22256511, 2303.56063919, 2302.90816269, 2301.00906936,\n",
              "       2300.39601692, 2299.79321364, 2299.2008112 , 2298.61895842,\n",
              "       2296.938142  , 2296.39991671, 2295.87294023, 2295.35734301,\n",
              "       2294.8532523 , 2293.41124191, 2292.50961643, 2292.07704888,\n",
              "       2291.65678351, 2290.4707769 , 2290.10067803, 2289.74334143,\n",
              "       2289.39884765, 2289.06727334, 2288.15077378, 2287.87156367,\n",
              "       2287.6055958 , 2287.35292235, 2286.47606786, 2286.29050021,\n",
              "       2286.11845018, 2285.95993964, 2285.81498604, 2285.46157384,\n",
              "       2285.37093231, 2285.29386714, 2285.2303685 , 2285.18042195,\n",
              "       2285.11168076, 2285.11570523, 2285.13313982, 2285.16394213,\n",
              "       2285.20806505, 2285.41981647, 2285.51665739, 2285.62651331,\n",
              "       2286.36822703, 2286.5544339 , 2286.75303326, 2286.96391798,\n",
              "       2287.18697646, 2287.92801215, 2288.19856157, 2288.48066106,\n",
              "       2288.77417304, 2289.07895578, 2290.05944991, 2290.76668573,\n",
              "       2291.13589058, 2291.51526235, 2292.71263265, 2293.130908  ,\n",
              "       2293.55845093, 2293.99507148, 2294.44057653, 2295.82842197,\n",
              "       2296.30747378, 2296.79440031, 2297.28899142, 2297.79103452,\n",
              "       2299.33971477, 2299.86939393, 2300.40542861, 2300.9475936 ,\n",
              "       2301.49566199, 2303.17299528, 2303.74237815, 2304.31650842,\n",
              "       2304.89515147, 2305.47807179, 2307.25013136, 2307.84779319,\n",
              "       2308.4485464 , 2309.05215302, 2309.6583751 , 2311.49035779,\n",
              "       2312.10466735, 2312.72040758, 2313.33734342, 2313.95524072,\n",
              "       2315.81237642, 2316.431801  , 2317.05103457, 2317.66985115,\n",
              "       2318.28802657, 2320.13649324, 2320.74990201, 2321.3615796 ,\n",
              "       2321.97131501, 2322.5788998 , 2324.3867072 , 2324.98366064,\n",
              "       2325.57746376, 2326.1679258 , 2326.7548593 , 2328.49266497,\n",
              "       2329.06367836, 2329.63027816, 2330.19229839, 2330.74957692,\n",
              "       2332.39140037, 2332.92817032, 2333.45944807, 2333.98509596,\n",
              "       2334.50498062, 2336.02878631, 2336.52437113, 2337.01359137,\n",
              "       2337.49634013, 2337.97251502, 2339.36064115, 2339.80958807,\n",
              "       2340.25151779, 2340.68635542, 2341.11403068, 2342.35344844,\n",
              "       2343.14283341, 2343.52631574, 2343.90227205, 2345.33022761,\n",
              "       2345.66813538])"
            ]
          },
          "metadata": {},
          "execution_count": 19
        }
      ]
    },
    {
      "cell_type": "code",
      "source": [
        "#1 method\n",
        "plt.scatter(x, y, color = 'red')\n",
        "plt.plot(x, regressor.predict(x), color = 'blue')\n",
        "plt.xlabel('Package')\n",
        "plt.ylabel('Sales')\n",
        "plt.show()"
      ],
      "metadata": {
        "colab": {
          "base_uri": "https://localhost:8080/",
          "height": 279
        },
        "id": "i3tFh3iFF1RQ",
        "outputId": "a58707e6-f329-4972-a6f6-ca39b03693a0"
      },
      "execution_count": null,
      "outputs": [
        {
          "output_type": "display_data",
          "data": {
            "text/plain": [
              "<Figure size 432x288 with 1 Axes>"
            ],
            "image/png": "[encoded data removed]"
          },
          "metadata": {
            "needs_background": "light"
          }
        }
      ]
    },
    {
      "cell_type": "code",
      "source": [
        "#2 method\n",
        "regressor = SVR(kernel = 'rbf')\n",
        "regressor.fit(x, y)\n",
        "y_pred = regressor.predict(x)\n",
        "plt.scatter(x, y, color = 'red')\n",
        "plt.plot(x, regressor.predict(x), color = 'blue')\n",
        "plt.xlabel('Package')\n",
        "plt.ylabel('Sales')\n",
        "plt.show()"
      ],
      "metadata": {
        "colab": {
          "base_uri": "https://localhost:8080/",
          "height": 334
        },
        "id": "FSN5eA0NF6X2",
        "outputId": "ec7ed70a-c84d-4f34-886f-5899ba5c3859"
      },
      "execution_count": null,
      "outputs": [
        {
          "output_type": "stream",
          "name": "stderr",
          "text": [
            "/usr/local/lib/python3.7/dist-packages/sklearn/utils/validation.py:993: DataConversionWarning: A column-vector y was passed when a 1d array was expected. Please change the shape of y to (n_samples, ), for example using ravel().\n",
            "  y = column_or_1d(y, warn=True)\n"
          ]
        },
        {
          "output_type": "display_data",
          "data": {
            "text/plain": [
              "<Figure size 432x288 with 1 Axes>"
            ],
            "image/png": "[encoded data removed]"
          },
          "metadata": {
            "needs_background": "light"
          }
        }
      ]
    },
    {
      "cell_type": "code",
      "source": [
        "#3 method\n",
        "regressor = SVR(kernel = 'rbf')\n",
        "regressor.fit(x, y)\n",
        "y_pred = regressor.predict(x)\n",
        "plt.scatter(x, y, color = 'red')\n",
        "plt.plot(x, regressor.predict(x), color = 'blue')\n",
        "plt.xlabel('Package')\n",
        "plt.ylabel('Sales')\n",
        "plt.show()"
      ],
      "metadata": {
        "colab": {
          "base_uri": "https://localhost:8080/",
          "height": 334
        },
        "id": "ZdGyU1jRG4hy",
        "outputId": "8a4c3489-1dc7-43df-fdf0-b18038572f11"
      },
      "execution_count": null,
      "outputs": [
        {
          "output_type": "stream",
          "name": "stderr",
          "text": [
            "/usr/local/lib/python3.7/dist-packages/sklearn/utils/validation.py:993: DataConversionWarning: A column-vector y was passed when a 1d array was expected. Please change the shape of y to (n_samples, ), for example using ravel().\n",
            "  y = column_or_1d(y, warn=True)\n"
          ]
        },
        {
          "output_type": "display_data",
          "data": {
            "text/plain": [
              "<Figure size 432x288 with 1 Axes>"
            ],
            "image/png": "[encoded data removed]"
          },
          "metadata": {
            "needs_background": "light"
          }
        }
      ]
    },
    {
      "cell_type": "code",
      "source": [
        "#METHOD 4 - LINEAR"
      ],
      "metadata": {
        "id": "LudDUjwtG_sE"
      },
      "execution_count": null,
      "outputs": []
    },
    {
      "cell_type": "code",
      "source": [
        "regressor = SVR(kernel = 'poly')\n",
        "regressor.fit(x, y)\n",
        "y_pred = regressor.predict(x)\n",
        "plt.scatter(x, y, color = 'red')\n",
        "plt.plot(x, regressor.predict(x), color = 'blue')\n",
        "plt.xlabel('Package')\n",
        "plt.ylabel('Sales')\n",
        "plt.show()"
      ],
      "metadata": {
        "colab": {
          "base_uri": "https://localhost:8080/"
        },
        "id": "iFWJWeYLHLEi",
        "outputId": "f383608e-53fa-4d96-c190-63ca0a35b099"
      },
      "execution_count": null,
      "outputs": [
        {
          "output_type": "stream",
          "name": "stderr",
          "text": [
            "/usr/local/lib/python3.7/dist-packages/sklearn/utils/validation.py:993: DataConversionWarning: A column-vector y was passed when a 1d array was expected. Please change the shape of y to (n_samples, ), for example using ravel().\n",
            "  y = column_or_1d(y, warn=True)\n"
          ]
        }
      ]
    },
    {
      "cell_type": "code",
      "source": [
        "regressor = SVR(kernel = 'rbf',C=1.0, epsilon=0.2)\n",
        "regressor.fit(x, y)\n",
        "y_pred = regressor.predict(x)\n",
        "plt.scatter(x, y, color = 'red')\n",
        "plt.plot(x, regressor.predict(x), color = 'blue')\n",
        "plt.xlabel('Package')\n",
        "plt.ylabel('Sales')\n",
        "plt.show()"
      ],
      "metadata": {
        "id": "zj6YdHHWHVMq"
      },
      "execution_count": null,
      "outputs": []
    },
    {
      "cell_type": "code",
      "source": [
        "regressor = SVR(kernel = 'rbf',C=2, epsilon=0.2)\n",
        "regressor.fit(x, y)\n",
        "y_pred = regressor.predict(x)\n",
        "plt.scatter(x, y, color = 'red')\n",
        "plt.plot(x, regressor.predict(x), color = 'blue')\n",
        "plt.xlabel('Package')\n",
        "plt.ylabel('Sales')\n",
        "plt.show()"
      ],
      "metadata": {
        "id": "3KjJGJqlHmci"
      },
      "execution_count": null,
      "outputs": []
    },
    {
      "cell_type": "code",
      "source": [
        "regressor = SVR(kernel = 'rbf',C=.1, epsilon=0.2)\n",
        "regressor.fit(x, y)\n",
        "y_pred = regressor.predict(x)\n",
        "plt.scatter(x, y, color = 'red')\n",
        "plt.plot(x, regressor.predict(x), color = 'blue')\n",
        "plt.xlabel('Package')\n",
        "plt.ylabel('Sales')\n",
        "plt.show()"
      ],
      "metadata": {
        "id": "iPL6Z9YZHwWP"
      },
      "execution_count": null,
      "outputs": []
    },
    {
      "cell_type": "code",
      "source": [
        "regressor = SVR(kernel = 'rbf', degree=3, gamma='scale', coef0=0.0, tol=0.001, C=1.0, epsilon=0.1, shrinking=True, cache_size=200, verbose=False, max_iter=- 1)\n",
        "regressor.fit(x, y)\n",
        "y_pred = regressor.predict(x)\n",
        "plt.scatter(x, y, color = 'red')\n",
        "plt.plot(x, regressor.predict(x), color = 'blue')\n",
        "plt.xlabel('Package')\n",
        "plt.ylabel('Sales')\n",
        "plt.show()"
      ],
      "metadata": {
        "id": "dHPN2wTzHymf"
      },
      "execution_count": null,
      "outputs": []
    },
    {
      "cell_type": "code",
      "source": [
        "regressor = SVR(kernel = 'poly', degree=3, gamma='scale', coef0=0.0, tol=0.001, C=1.0, epsilon=0.1, shrinking=True, cache_size=200, verbose=False, max_iter=- 1)\n",
        "regressor.fit(x, y)\n",
        "y_pred = regressor.predict(x)\n",
        "plt.scatter(x, y, color = 'red')\n",
        "plt.plot(x, regressor.predict(x), color = 'blue')\n",
        "plt.xlabel('Package')\n",
        "plt.ylabel('Sales')\n",
        "plt.show()"
      ],
      "metadata": {
        "id": "s5SuHXqfH0Ok"
      },
      "execution_count": null,
      "outputs": []
    },
    {
      "cell_type": "code",
      "source": [
        ""
      ],
      "metadata": {
        "id": "IpQnArIbH16F"
      },
      "execution_count": null,
      "outputs": []
    }
  ]
}